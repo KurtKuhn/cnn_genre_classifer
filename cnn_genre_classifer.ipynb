{
 "cells": [
  {
   "cell_type": "markdown",
   "metadata": {},
   "source": [
    "### Import the Libraries"
   ]
  },
  {
   "cell_type": "code",
   "execution_count": 1,
   "metadata": {},
   "outputs": [],
   "source": [
    "import os\n",
    "import math\n",
    "import pandas as pd\n",
    "import numpy as np\n",
    "\n",
    "import librosa\n",
    "import librosa.display\n",
    "\n",
    "import matplotlib.pyplot as plt\n",
    "\n",
    "from sklearn.model_selection import train_test_split\n",
    "from sklearn.metrics import confusion_matrix\n",
    "\n",
    "import tensorflow.keras as keras\n",
    "import tensorflow as tf\n",
    "\n",
    "from tensorflow.keras.callbacks import EarlyStopping, ReduceLROnPlateau, ModelCheckpoint\n",
    "\n",
    "from tensorflow.keras.models import Sequential\n",
    "from tensorflow.python.keras import regularizers\n",
    "\n",
    "data_path = '../../Classes/OSU/CS467/audio_data_output/6_segs_audio_output.npz'"
   ]
  },
  {
   "cell_type": "markdown",
   "metadata": {},
   "source": [
    "### Load and prepare the data"
   ]
  },
  {
   "cell_type": "code",
   "execution_count": 2,
   "metadata": {},
   "outputs": [],
   "source": [
    "def load_data (dataset_path, data1 = 'mfcc', data2 = 'labels'):\n",
    "    \n",
    "    np_file = np.load(dataset_path)\n",
    "    \n",
    "    return np_file[data1], np_file[data2]"
   ]
  },
  {
   "cell_type": "code",
   "execution_count": 3,
   "metadata": {},
   "outputs": [],
   "source": [
    "def prepare_datasets(data_path, test_size, validation_size):\n",
    "    \n",
    "    # load data\n",
    "    X, y = load_data(data_path, 'mfcc', 'labels')\n",
    "    \n",
    "    # create train test split\n",
    "    X_train, X_test, y_train, y_test = train_test_split(X, y, test_size=test_size)\n",
    "    \n",
    "    \n",
    "    # create train/validation split\n",
    "    X_train, X_validation, y_train, y_validation = train_test_split(X_train, \n",
    "                                                                    y_train, \n",
    "                                                                    test_size=validation_size)\n",
    "    \n",
    "    \n",
    "    X_train = X_train[..., np.newaxis] # 4d array -> (num_samples, 130, 13, 1)\n",
    "    X_validation = X_validation[..., np.newaxis]\n",
    "    X_test = X_test[..., np.newaxis]\n",
    "    \n",
    "    return X_train, X_validation, X_test, y_train, y_validation, y_test\n",
    "    "
   ]
  },
  {
   "cell_type": "code",
   "execution_count": 4,
   "metadata": {},
   "outputs": [],
   "source": [
    "X_train, X_validation, X_test, y_train, y_validation, y_test = prepare_datasets(data_path, 0.25, 0.25)"
   ]
  },
  {
   "cell_type": "markdown",
   "metadata": {},
   "source": [
    "### Define and build the model"
   ]
  },
  {
   "cell_type": "code",
   "execution_count": 5,
   "metadata": {},
   "outputs": [],
   "source": [
    "### Import the necessary layers\n",
    "from tensorflow.keras.layers import Dense, Dropout, Conv2D, MaxPooling2D, BatchNormalization, Flatten, Activation"
   ]
  },
  {
   "cell_type": "code",
   "execution_count": 6,
   "metadata": {
    "scrolled": true
   },
   "outputs": [],
   "source": [
    "def build_model(input_shape):\n",
    "    \n",
    "    model = Sequential()\n",
    "\n",
    "    # 1st Convulational Layer\n",
    "    model.add(Conv2D(64, (3, 3), activation='relu', input_shape=input_shape))\n",
    "    model.add(MaxPooling2D((3, 3), strides=(2, 2), padding='same'))\n",
    "    model.add(BatchNormalization())\n",
    "\n",
    "    # 2nd Convulational Layer\n",
    "    model.add(Conv2D(64, (3, 3), activation='relu', kernel_regularizer=regularizers.l2(0.04)))\n",
    "    model.add(MaxPooling2D((3, 3), strides=(2, 2), padding='same'))\n",
    "    model.add(Dropout(0.3))\n",
    "    model.add(BatchNormalization())\n",
    "\n",
    "    # 3rd Convulational Layer\n",
    "    model.add(Conv2D(64, (2, 2), activation='relu'))\n",
    "    model.add(MaxPooling2D((2, 2), strides=(2, 2), padding='same'))\n",
    "    model.add(BatchNormalization())\n",
    "\n",
    "    # Flatten and feed it to the dense layer. \n",
    "    model.add(Flatten())\n",
    "    model.add(Dense(64, activation='relu', kernel_regularizer=regularizers.l2(0.04)))\n",
    "    model.add(Dropout(0.3))\n",
    "    model.add(Dense(32, activation='relu', kernel_regularizer=regularizers.l2(0.04)))\n",
    "\n",
    "    # output layer\n",
    "    model.add(Dense(10, activation='softmax'))\n",
    "    \n",
    "    return model\n"
   ]
  },
  {
   "cell_type": "code",
   "execution_count": 7,
   "metadata": {},
   "outputs": [
    {
     "data": {
      "text/plain": [
       "(3370, 216, 13, 1)"
      ]
     },
     "execution_count": 7,
     "metadata": {},
     "output_type": "execute_result"
    }
   ],
   "source": [
    "X_train.shape"
   ]
  },
  {
   "cell_type": "markdown",
   "metadata": {},
   "source": [
    "### Build and Compile The Model"
   ]
  },
  {
   "cell_type": "code",
   "execution_count": 24,
   "metadata": {},
   "outputs": [],
   "source": [
    "# Build the CNN\n",
    "input_shape = (X_train.shape[1], X_train.shape[2], 1)\n",
    "\n",
    "model = build_model(input_shape)"
   ]
  },
  {
   "cell_type": "code",
   "execution_count": 25,
   "metadata": {},
   "outputs": [],
   "source": [
    "# Begin Compiling\n",
    "optimizer = keras.optimizers.Adam(learning_rate = 0.0001)\n",
    "\n",
    "model.compile(optimizer=optimizer,\n",
    "              loss='sparse_categorical_crossentropy',\n",
    "              metrics=['accuracy'])"
   ]
  },
  {
   "cell_type": "markdown",
   "metadata": {},
   "source": [
    "### Add in an early stop to avoid overtraining"
   ]
  },
  {
   "cell_type": "code",
   "execution_count": 26,
   "metadata": {},
   "outputs": [],
   "source": [
    "model_checkpoint = ModelCheckpoint('../models/cnn_genre_classifer_results_6segs_216.h5', monitor = 'accuracy', mode='min', save_best_only=True)\n",
    "\n",
    "early_stop = EarlyStopping(monitor='accuracy', mode='min', verbose=1, patience=50)\n",
    "\n",
    "rlrop = ReduceLROnPlateau(monitor='val_loss', factor=0.1, patience=50)"
   ]
  },
  {
   "cell_type": "code",
   "execution_count": 27,
   "metadata": {
    "scrolled": true
   },
   "outputs": [
    {
     "name": "stdout",
     "output_type": "stream",
     "text": [
      "Epoch 1/100\n",
      "53/53 [==============================] - 11s 184ms/step - loss: 11.5341 - accuracy: 0.1364 - val_loss: 10.8602 - val_accuracy: 0.1681\n",
      "Epoch 2/100\n",
      "53/53 [==============================] - 9s 177ms/step - loss: 10.6499 - accuracy: 0.2397 - val_loss: 10.0829 - val_accuracy: 0.2758\n",
      "Epoch 3/100\n",
      "53/53 [==============================] - 9s 178ms/step - loss: 9.8908 - accuracy: 0.3256 - val_loss: 9.4148 - val_accuracy: 0.3630\n",
      "Epoch 4/100\n",
      "53/53 [==============================] - 9s 175ms/step - loss: 9.2649 - accuracy: 0.3450 - val_loss: 8.8237 - val_accuracy: 0.3897\n",
      "Epoch 5/100\n",
      "53/53 [==============================] - 9s 177ms/step - loss: 8.6697 - accuracy: 0.4001 - val_loss: 8.2679 - val_accuracy: 0.4137\n",
      "Epoch 6/100\n",
      "53/53 [==============================] - 9s 174ms/step - loss: 8.1134 - accuracy: 0.4314 - val_loss: 7.7644 - val_accuracy: 0.4457\n",
      "Epoch 7/100\n",
      "53/53 [==============================] - 9s 176ms/step - loss: 7.5930 - accuracy: 0.4516 - val_loss: 7.2575 - val_accuracy: 0.4804\n",
      "Epoch 8/100\n",
      "53/53 [==============================] - 9s 178ms/step - loss: 7.1376 - accuracy: 0.4613 - val_loss: 6.8156 - val_accuracy: 0.5151\n",
      "Epoch 9/100\n",
      "53/53 [==============================] - 10s 181ms/step - loss: 6.6681 - accuracy: 0.5093 - val_loss: 6.3906 - val_accuracy: 0.5160\n",
      "Epoch 10/100\n",
      "53/53 [==============================] - 9s 176ms/step - loss: 6.2837 - accuracy: 0.4998 - val_loss: 6.0311 - val_accuracy: 0.5409\n",
      "Epoch 11/100\n",
      "53/53 [==============================] - 9s 177ms/step - loss: 5.8986 - accuracy: 0.5353 - val_loss: 5.6745 - val_accuracy: 0.5463\n",
      "Epoch 12/100\n",
      "53/53 [==============================] - 9s 178ms/step - loss: 5.5203 - accuracy: 0.5701 - val_loss: 5.3644 - val_accuracy: 0.5649\n",
      "Epoch 13/100\n",
      "53/53 [==============================] - 10s 181ms/step - loss: 5.2137 - accuracy: 0.5682 - val_loss: 5.1053 - val_accuracy: 0.5400\n",
      "Epoch 14/100\n",
      "53/53 [==============================] - 9s 179ms/step - loss: 4.9183 - accuracy: 0.5894 - val_loss: 4.8004 - val_accuracy: 0.5694\n",
      "Epoch 15/100\n",
      "53/53 [==============================] - 9s 178ms/step - loss: 4.6506 - accuracy: 0.5981 - val_loss: 4.5383 - val_accuracy: 0.5658\n",
      "Epoch 16/100\n",
      "53/53 [==============================] - 10s 184ms/step - loss: 4.3666 - accuracy: 0.6248 - val_loss: 4.2815 - val_accuracy: 0.5890\n",
      "Epoch 17/100\n",
      "53/53 [==============================] - 10s 189ms/step - loss: 4.1987 - accuracy: 0.6067 - val_loss: 4.0859 - val_accuracy: 0.6085\n",
      "Epoch 18/100\n",
      "53/53 [==============================] - 9s 178ms/step - loss: 3.9391 - accuracy: 0.6310 - val_loss: 3.8847 - val_accuracy: 0.5961\n",
      "Epoch 19/100\n",
      "53/53 [==============================] - 9s 177ms/step - loss: 3.7153 - accuracy: 0.6507 - val_loss: 3.7108 - val_accuracy: 0.6085\n",
      "Epoch 20/100\n",
      "53/53 [==============================] - 9s 178ms/step - loss: 3.5666 - accuracy: 0.6476 - val_loss: 3.5303 - val_accuracy: 0.6379\n",
      "Epoch 21/100\n",
      "53/53 [==============================] - 9s 178ms/step - loss: 3.3782 - accuracy: 0.6688 - val_loss: 3.3608 - val_accuracy: 0.6495\n",
      "Epoch 22/100\n",
      "53/53 [==============================] - 10s 185ms/step - loss: 3.2079 - accuracy: 0.6946 - val_loss: 3.2940 - val_accuracy: 0.6228\n",
      "Epoch 23/100\n",
      "53/53 [==============================] - 10s 181ms/step - loss: 3.0595 - accuracy: 0.6931 - val_loss: 3.0878 - val_accuracy: 0.6530\n",
      "Epoch 24/100\n",
      "53/53 [==============================] - 9s 179ms/step - loss: 2.9169 - accuracy: 0.7185 - val_loss: 2.9498 - val_accuracy: 0.6646\n",
      "Epoch 25/100\n",
      "53/53 [==============================] - 9s 176ms/step - loss: 2.7901 - accuracy: 0.7166 - val_loss: 2.8291 - val_accuracy: 0.6735\n",
      "Epoch 26/100\n",
      "53/53 [==============================] - 9s 177ms/step - loss: 2.6540 - accuracy: 0.7414 - val_loss: 2.8559 - val_accuracy: 0.6165\n",
      "Epoch 27/100\n",
      "53/53 [==============================] - 9s 176ms/step - loss: 2.5523 - accuracy: 0.7512 - val_loss: 2.6782 - val_accuracy: 0.6779\n",
      "Epoch 28/100\n",
      "53/53 [==============================] - 9s 176ms/step - loss: 2.4509 - accuracy: 0.7474 - val_loss: 2.6132 - val_accuracy: 0.6593\n",
      "Epoch 29/100\n",
      "53/53 [==============================] - 9s 176ms/step - loss: 2.3653 - accuracy: 0.7605 - val_loss: 2.4207 - val_accuracy: 0.7100\n",
      "Epoch 30/100\n",
      "53/53 [==============================] - 9s 179ms/step - loss: 2.2685 - accuracy: 0.7716 - val_loss: 2.3700 - val_accuracy: 0.6966\n",
      "Epoch 31/100\n",
      "53/53 [==============================] - 10s 188ms/step - loss: 2.1836 - accuracy: 0.7748 - val_loss: 2.3151 - val_accuracy: 0.7064\n",
      "Epoch 32/100\n",
      "53/53 [==============================] - 10s 185ms/step - loss: 2.1375 - accuracy: 0.7674 - val_loss: 2.3955 - val_accuracy: 0.6388\n",
      "Epoch 33/100\n",
      "53/53 [==============================] - 10s 181ms/step - loss: 2.0832 - accuracy: 0.7714 - val_loss: 2.1711 - val_accuracy: 0.7037\n",
      "Epoch 34/100\n",
      "53/53 [==============================] - 9s 178ms/step - loss: 1.9777 - accuracy: 0.7831 - val_loss: 2.0995 - val_accuracy: 0.7064\n",
      "Epoch 35/100\n",
      "53/53 [==============================] - 9s 178ms/step - loss: 1.9118 - accuracy: 0.7955 - val_loss: 2.0370 - val_accuracy: 0.7313\n",
      "Epoch 36/100\n",
      "53/53 [==============================] - 9s 176ms/step - loss: 1.8563 - accuracy: 0.8084 - val_loss: 2.0364 - val_accuracy: 0.7100\n",
      "Epoch 37/100\n",
      "53/53 [==============================] - 9s 177ms/step - loss: 1.7900 - accuracy: 0.8072 - val_loss: 1.9725 - val_accuracy: 0.7153\n",
      "Epoch 38/100\n",
      "53/53 [==============================] - 9s 176ms/step - loss: 1.7561 - accuracy: 0.8057 - val_loss: 1.8450 - val_accuracy: 0.7669\n",
      "Epoch 39/100\n",
      "53/53 [==============================] - 9s 176ms/step - loss: 1.7117 - accuracy: 0.8130 - val_loss: 1.8908 - val_accuracy: 0.7117\n",
      "Epoch 40/100\n",
      "53/53 [==============================] - 9s 176ms/step - loss: 1.6441 - accuracy: 0.8243 - val_loss: 1.9014 - val_accuracy: 0.6975\n",
      "Epoch 41/100\n",
      "53/53 [==============================] - 9s 178ms/step - loss: 1.6452 - accuracy: 0.8048 - val_loss: 1.7650 - val_accuracy: 0.7411\n",
      "Epoch 42/100\n",
      "53/53 [==============================] - 9s 177ms/step - loss: 1.5669 - accuracy: 0.8379 - val_loss: 1.7540 - val_accuracy: 0.7411\n",
      "Epoch 43/100\n",
      "53/53 [==============================] - 9s 176ms/step - loss: 1.5493 - accuracy: 0.8248 - val_loss: 1.6895 - val_accuracy: 0.7669\n",
      "Epoch 44/100\n",
      "53/53 [==============================] - 9s 178ms/step - loss: 1.5198 - accuracy: 0.8330 - val_loss: 1.6775 - val_accuracy: 0.7544\n",
      "Epoch 45/100\n",
      "53/53 [==============================] - 9s 176ms/step - loss: 1.4780 - accuracy: 0.8375 - val_loss: 1.6938 - val_accuracy: 0.7304\n",
      "Epoch 46/100\n",
      "53/53 [==============================] - 9s 176ms/step - loss: 1.4453 - accuracy: 0.8462 - val_loss: 1.6329 - val_accuracy: 0.7589\n",
      "Epoch 47/100\n",
      "53/53 [==============================] - 9s 176ms/step - loss: 1.4055 - accuracy: 0.8445 - val_loss: 1.6877 - val_accuracy: 0.7224\n",
      "Epoch 48/100\n",
      "53/53 [==============================] - 10s 182ms/step - loss: 1.3740 - accuracy: 0.8553 - val_loss: 1.7181 - val_accuracy: 0.6948\n",
      "Epoch 49/100\n",
      "53/53 [==============================] - 9s 178ms/step - loss: 1.3576 - accuracy: 0.8536 - val_loss: 1.6370 - val_accuracy: 0.7322\n",
      "Epoch 50/100\n",
      "53/53 [==============================] - 10s 180ms/step - loss: 1.3009 - accuracy: 0.8617 - val_loss: 1.5782 - val_accuracy: 0.7420\n",
      "Epoch 51/100\n",
      "53/53 [==============================] - 10s 182ms/step - loss: 1.3089 - accuracy: 0.8490 - val_loss: 1.5520 - val_accuracy: 0.7482\n",
      "Epoch 00051: early stopping\n"
     ]
    }
   ],
   "source": [
    "history = model.fit(X_train, \n",
    "          y_train, \n",
    "          validation_data = (X_validation, y_validation), \n",
    "          batch_size = 64, \n",
    "          epochs = 100,\n",
    "          callbacks = [early_stop, rlrop, model_checkpoint]         \n",
    "          )"
   ]
  },
  {
   "cell_type": "code",
   "execution_count": 28,
   "metadata": {},
   "outputs": [
    {
     "name": "stdout",
     "output_type": "stream",
     "text": [
      "47/47 [==============================] - 1s 19ms/step - loss: 1.4998 - accuracy: 0.7770\n"
     ]
    }
   ],
   "source": [
    "test_error, test_accuracy = model.evaluate(X_test, y_test, verbose=1)"
   ]
  },
  {
   "cell_type": "markdown",
   "metadata": {},
   "source": [
    "### Plot"
   ]
  },
  {
   "cell_type": "code",
   "execution_count": 29,
   "metadata": {},
   "outputs": [],
   "source": [
    "def plot_history(history):\n",
    "    fig, axs = plt.subplots(2)\n",
    "\n",
    "    # create accuracy subplot\n",
    "    axs[0].plot(history.history[\"accuracy\"], label=\"train accuracy\")\n",
    "    axs[0].plot(history.history[\"val_accuracy\"], label=\"test accuracy\")\n",
    "    axs[0].set_ylabel(\"Accuracy\")\n",
    "    axs[0].legend(loc=\"lower right\")\n",
    "    axs[0].set_title(\"Accuracy Eval\")\n",
    "\n",
    "    # create error subplot\n",
    "    axs[1].plot(history.history[\"loss\"], label=\"train error\")\n",
    "    axs[1].plot(history.history[\"val_loss\"], label=\"test error\")\n",
    "    axs[1].set_ylabel(\"Error\")\n",
    "    axs[1].set_xlabel(\"Epoch\")\n",
    "    axs[1].legend(loc=\"upper right\")\n",
    "    axs[1].set_title(\"Error Eval\")\n",
    "\n",
    "    plt.show()"
   ]
  },
  {
   "cell_type": "code",
   "execution_count": 30,
   "metadata": {},
   "outputs": [
    {
     "data": {
      "image/png": "[encoded data removed]",
      "text/plain": [
       "<Figure size 432x288 with 2 Axes>"
      ]
     },
     "metadata": {
      "needs_background": "light"
     },
     "output_type": "display_data"
    }
   ],
   "source": [
    "plot_history(history)"
   ]
  },
  {
   "cell_type": "markdown",
   "metadata": {},
   "source": [
    "### Predict"
   ]
  },
  {
   "cell_type": "code",
   "execution_count": 31,
   "metadata": {},
   "outputs": [
    {
     "name": "stdout",
     "output_type": "stream",
     "text": [
      "47/47 [==============================] - 1s 17ms/step\n"
     ]
    }
   ],
   "source": [
    "predictions = model.predict(X_test, verbose = 1) "
   ]
  },
  {
   "cell_type": "markdown",
   "metadata": {},
   "source": [
    "### Confusion Matrix"
   ]
  },
  {
   "cell_type": "code",
   "execution_count": 32,
   "metadata": {},
   "outputs": [
    {
     "name": "stdout",
     "output_type": "stream",
     "text": [
      "0: 0.169\n",
      "1: 0.108\n",
      "2: 0.226\n",
      "3: 0.12\n",
      "4: 0.141\n",
      "5: 0.137\n",
      "6: 0.159\n",
      "7: 0.142\n",
      "8: 0.196\n",
      "9: 0.1\n"
     ]
    }
   ],
   "source": [
    "### Check the number of predicted values in each class, and append it to the labels_pred list\n",
    "labels_pred = []\n",
    "for i in range(10):\n",
    "    \n",
    "    print(f'{i}: {sum([1 for prediction in predictions if np.argmax(prediction) == i]) / 1000}')\n",
    "    labels_pred.append(sum([1 for prediction in predictions if np.argmax(prediction) == i]) / 1000)"
   ]
  },
  {
   "cell_type": "code",
   "execution_count": 33,
   "metadata": {},
   "outputs": [
    {
     "name": "stdout",
     "output_type": "stream",
     "text": [
      "rock: 0.226\n",
      "disco: 0.196\n",
      "jazz: 0.169\n",
      "metal: 0.159\n",
      "classical: 0.142\n",
      "hiphop: 0.141\n",
      "country: 0.137\n",
      "blues: 0.12\n",
      "reggae: 0.108\n",
      "pop: 0.1\n"
     ]
    }
   ],
   "source": [
    "### Create a genre list \n",
    "genre_list = ['jazz:', 'reggae:', 'rock:', 'blues:', 'hiphop:', 'country:', 'metal:', 'classical:', 'disco:', 'pop:']\n",
    "\n",
    "\n",
    "# Zip the results together\n",
    "results = list(zip(genre_list, labels_pred))\n",
    "\n",
    "# Sort them by second index\n",
    "results = sorted(results, key = lambda x: x[1], reverse = True)\n",
    "\n",
    "# Display the results of the predictionsfor i in results:\n",
    "for i in results:\n",
    "    print (' '.join(map(str, i)))"
   ]
  },
  {
   "cell_type": "markdown",
   "metadata": {},
   "source": [
    "### Save the Model"
   ]
  },
  {
   "cell_type": "code",
   "execution_count": 39,
   "metadata": {},
   "outputs": [],
   "source": [
    "model.save('/Models/cnn_genre_classifer_results_6segs_216.h5')"
   ]
  },
  {
   "cell_type": "markdown",
   "metadata": {},
   "source": [
    "### Additional Prediction Stuff"
   ]
  },
  {
   "cell_type": "code",
   "execution_count": 35,
   "metadata": {},
   "outputs": [],
   "source": [
    "def predict(model, X_prediction, y_prediction):\n",
    "    \n",
    "    X_prediction = X_prediction[np.newaxis, ...]\n",
    "    \n",
    "    # Plot predictions to a 2D Array\n",
    "    predictions = model.predict(X_prediction)\n",
    "    \n",
    "    predicted_index = np.argmax(predictions, axis=1)\n",
    "    \n",
    "    \n",
    "    print(f'Target: {y_prediction}, Predicted label: {predicted_index}')"
   ]
  },
  {
   "cell_type": "code",
   "execution_count": 36,
   "metadata": {},
   "outputs": [],
   "source": [
    "X_prediction = X_test[100]\n",
    "y_prediction = y_test[100]"
   ]
  },
  {
   "cell_type": "code",
   "execution_count": 37,
   "metadata": {},
   "outputs": [
    {
     "name": "stdout",
     "output_type": "stream",
     "text": [
      "Target: 1, Predicted label: [4]\n"
     ]
    }
   ],
   "source": [
    "pred = predict(model, X_prediction, y_prediction)"
   ]
  },
  {
   "cell_type": "code",
   "execution_count": null,
   "metadata": {},
   "outputs": [],
   "source": []
  },
  {
   "cell_type": "code",
   "execution_count": null,
   "metadata": {},
   "outputs": [],
   "source": []
  },
  {
   "cell_type": "code",
   "execution_count": null,
   "metadata": {},
   "outputs": [],
   "source": []
  }
 ],
 "metadata": {
  "kernelspec": {
   "display_name": "Python 3",
   "language": "python",
   "name": "python3"
  },
  "language_info": {
   "codemirror_mode": {
    "name": "ipython",
    "version": 3
   },
   "file_extension": ".py",
   "mimetype": "text/x-python",
   "name": "python",
   "nbconvert_exporter": "python",
   "pygments_lexer": "ipython3",
   "version": "3.8.5"
  }
 },
 "nbformat": 4,
 "nbformat_minor": 4
}
