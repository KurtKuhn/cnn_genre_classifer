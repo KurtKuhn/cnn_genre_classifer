{
 "cells": [
  {
   "cell_type": "markdown",
   "metadata": {},
   "source": [
    "### Import the Libraries"
   ]
  },
  {
   "cell_type": "code",
   "execution_count": 9,
   "metadata": {},
   "outputs": [],
   "source": [
    "import os\n",
    "import math\n",
    "import pandas as pd\n",
    "import numpy as np\n",
    "\n",
    "import librosa\n",
    "import librosa.display\n",
    "\n",
    "import matplotlib.pyplot as plt\n",
    "\n",
    "from sklearn.model_selection import train_test_split\n",
    "from sklearn.metrics import confusion_matrix\n",
    "\n",
    "import tensorflow.keras as keras\n",
    "import tensorflow as tf\n",
    "\n",
    "from tensorflow.keras.callbacks import EarlyStopping\n",
    "from tensorflow.keras.models import Sequential\n",
    "from tensorflow.python.keras import regularizers\n",
    "\n",
    "data_path = '../../audioaudio_data_MFCC/audio_output.npz'"
   ]
  },
  {
   "cell_type": "markdown",
   "metadata": {},
   "source": [
    "### Load and prepare the data"
   ]
  },
  {
   "cell_type": "code",
   "execution_count": 10,
   "metadata": {},
   "outputs": [],
   "source": [
    "def load_data (dataset_path, data1 = 'mfcc', data2 = 'labels'):\n",
    "    \n",
    "    np_file = np.load(dataset_path)\n",
    "    \n",
    "    return np_file[data1], np_file[data2]"
   ]
  },
  {
   "cell_type": "code",
   "execution_count": 11,
   "metadata": {},
   "outputs": [],
   "source": [
    "def prepare_datasets(data_path, test_size, validation_size):\n",
    "    \n",
    "    # load data\n",
    "    X, y = load_data(data_path, 'mfcc', 'labels')\n",
    "    \n",
    "    # create train test split\n",
    "    X_train, X_test, y_train, y_test = train_test_split(X, y, test_size=test_size)\n",
    "    \n",
    "    \n",
    "    # create train/validation split\n",
    "    X_train, X_validation, y_train, y_validation = train_test_split(X_train, \n",
    "                                                                    y_train, \n",
    "                                                                    test_size=validation_size)\n",
    "    \n",
    "    \n",
    "    X_train = X_train[..., np.newaxis] # 4d array -> (num_samples, 130, 13, 1)\n",
    "    X_validation = X_validation[..., np.newaxis]\n",
    "    X_test = X_test[..., np.newaxis]\n",
    "    \n",
    "    return X_train, X_validation, X_test, y_train, y_validation, y_test\n",
    "    "
   ]
  },
  {
   "cell_type": "code",
   "execution_count": 13,
   "metadata": {},
   "outputs": [],
   "source": [
    "X_train, X_validation, X_test, y_train, y_validation, y_test = prepare_datasets('../../audio/audio_data_MFCC/audio_output.npz', 0.25, 0.2)"
   ]
  },
  {
   "cell_type": "markdown",
   "metadata": {},
   "source": [
    "### Define and build the model"
   ]
  },
  {
   "cell_type": "code",
   "execution_count": 14,
   "metadata": {},
   "outputs": [],
   "source": [
    "### Import the necessary layers\n",
    "from tensorflow.keras.layers import Dense, Dropout, Conv2D, MaxPooling2D, BatchNormalization, Flatten"
   ]
  },
  {
   "cell_type": "code",
   "execution_count": 15,
   "metadata": {
    "scrolled": true
   },
   "outputs": [],
   "source": [
    "def build_model(input_shape):\n",
    "\n",
    "    model = Sequential()\n",
    "\n",
    "    # 1st Convulational Layer\n",
    "    model.add(Conv2D(64, (5, 5), activation='relu', input_shape = input_shape))\n",
    "    model.add(MaxPooling2D((3, 3), strides=(2, 2), padding='same'))\n",
    "    model.add(BatchNormalization())\n",
    "\n",
    "    # 2nd Convulational Layer\n",
    "    model.add(Conv2D(64, (3, 3), activation ='relu'))\n",
    "    model.add(MaxPooling2D((3, 3), strides = (2, 2), padding='same'))\n",
    "    model.add(Dropout(0.25))\n",
    "    model.add(BatchNormalization())\n",
    "    \n",
    "    # 3rd Convulational Layer\n",
    "    model.add(Conv2D(32, (2, 2), activation='relu'))\n",
    "    model.add(MaxPooling2D((2, 2), strides=(2, 2), padding='same'))\n",
    "    model.add(BatchNormalization())\n",
    "\n",
    "    \n",
    "    # Flatten the output\n",
    "    model.add(keras.layers.Flatten())\n",
    "    \n",
    "    # Feed it to the dense layer\n",
    "    model.add(keras.layers.Dense(64, activation='relu'))\n",
    "    model.add(keras.layers.Dropout(0.25))\n",
    "\n",
    "    # Output Layer\n",
    "    model.add(keras.layers.Dense(10, activation='softmax'))\n",
    "    \n",
    "    return model"
   ]
  },
  {
   "cell_type": "code",
   "execution_count": 16,
   "metadata": {},
   "outputs": [
    {
     "data": {
      "text/plain": [
       "(3595, 216, 13, 1)"
      ]
     },
     "execution_count": 16,
     "metadata": {},
     "output_type": "execute_result"
    }
   ],
   "source": [
    "X_train.shape"
   ]
  },
  {
   "cell_type": "markdown",
   "metadata": {},
   "source": [
    "### Build and Compile The Model"
   ]
  },
  {
   "cell_type": "code",
   "execution_count": 17,
   "metadata": {},
   "outputs": [],
   "source": [
    "# Build the CNN\n",
    "input_shape = (X_train.shape[1], X_train.shape[2], 1)\n",
    "model = build_model(input_shape)"
   ]
  },
  {
   "cell_type": "code",
   "execution_count": 18,
   "metadata": {},
   "outputs": [],
   "source": [
    "# Begin Compiling\n",
    "optimizer = keras.optimizers.Adam(learning_rate = 0.00015)\n",
    "model.compile(optimizer=optimizer,\n",
    "              loss='sparse_categorical_crossentropy',\n",
    "              metrics=['accuracy'])"
   ]
  },
  {
   "cell_type": "markdown",
   "metadata": {},
   "source": [
    "### Add in an early stop to avoid overtraining"
   ]
  },
  {
   "cell_type": "code",
   "execution_count": 19,
   "metadata": {},
   "outputs": [],
   "source": [
    "early_stop = EarlyStopping(monitor='accuracy', mode='min', verbose=1, patience=25)"
   ]
  },
  {
   "cell_type": "code",
   "execution_count": 20,
   "metadata": {
    "scrolled": true
   },
   "outputs": [
    {
     "name": "stdout",
     "output_type": "stream",
     "text": [
      "Epoch 1/100\n",
      "57/57 [==============================] - 10s 160ms/step - loss: 2.9619 - accuracy: 0.1480 - val_loss: 3.4841 - val_accuracy: 0.2180\n",
      "Epoch 2/100\n",
      "57/57 [==============================] - 9s 150ms/step - loss: 1.9846 - accuracy: 0.3298 - val_loss: 1.7867 - val_accuracy: 0.3860\n",
      "Epoch 3/100\n",
      "57/57 [==============================] - 9s 150ms/step - loss: 1.7450 - accuracy: 0.3884 - val_loss: 1.4824 - val_accuracy: 0.4727\n",
      "Epoch 4/100\n",
      "57/57 [==============================] - 8s 149ms/step - loss: 1.5795 - accuracy: 0.4360 - val_loss: 1.3293 - val_accuracy: 0.5261\n",
      "Epoch 5/100\n",
      "57/57 [==============================] - 9s 152ms/step - loss: 1.4588 - accuracy: 0.4717 - val_loss: 1.2743 - val_accuracy: 0.5417\n",
      "Epoch 6/100\n",
      "57/57 [==============================] - 8s 149ms/step - loss: 1.3336 - accuracy: 0.5246 - val_loss: 1.2515 - val_accuracy: 0.5373\n",
      "Epoch 7/100\n",
      "57/57 [==============================] - 9s 150ms/step - loss: 1.2762 - accuracy: 0.5381 - val_loss: 1.2127 - val_accuracy: 0.5573\n",
      "Epoch 8/100\n",
      "57/57 [==============================] - 9s 153ms/step - loss: 1.2717 - accuracy: 0.5431 - val_loss: 1.1844 - val_accuracy: 0.5640\n",
      "Epoch 9/100\n",
      "57/57 [==============================] - 9s 151ms/step - loss: 1.1823 - accuracy: 0.5839 - val_loss: 1.1350 - val_accuracy: 0.5918\n",
      "Epoch 10/100\n",
      "57/57 [==============================] - 9s 150ms/step - loss: 1.1732 - accuracy: 0.5761 - val_loss: 1.1060 - val_accuracy: 0.6029\n",
      "Epoch 11/100\n",
      "57/57 [==============================] - 9s 151ms/step - loss: 1.1114 - accuracy: 0.6144 - val_loss: 1.0701 - val_accuracy: 0.6073\n",
      "Epoch 12/100\n",
      "57/57 [==============================] - 9s 152ms/step - loss: 1.0671 - accuracy: 0.6174 - val_loss: 1.1168 - val_accuracy: 0.6085\n",
      "Epoch 13/100\n",
      "57/57 [==============================] - 9s 149ms/step - loss: 0.9884 - accuracy: 0.6479 - val_loss: 1.0309 - val_accuracy: 0.6207\n",
      "Epoch 14/100\n",
      "57/57 [==============================] - 9s 150ms/step - loss: 0.9672 - accuracy: 0.6573 - val_loss: 1.0225 - val_accuracy: 0.6429\n",
      "Epoch 15/100\n",
      "57/57 [==============================] - 9s 153ms/step - loss: 0.9545 - accuracy: 0.6566 - val_loss: 1.0256 - val_accuracy: 0.6229\n",
      "Epoch 16/100\n",
      "57/57 [==============================] - 9s 150ms/step - loss: 0.8841 - accuracy: 0.6793 - val_loss: 1.0599 - val_accuracy: 0.6129\n",
      "Epoch 17/100\n",
      "57/57 [==============================] - 8s 149ms/step - loss: 0.8583 - accuracy: 0.7058 - val_loss: 0.9745 - val_accuracy: 0.6507\n",
      "Epoch 18/100\n",
      "57/57 [==============================] - 9s 151ms/step - loss: 0.8166 - accuracy: 0.7005 - val_loss: 1.0139 - val_accuracy: 0.6318\n",
      "Epoch 19/100\n",
      "57/57 [==============================] - 9s 159ms/step - loss: 0.8060 - accuracy: 0.7131 - val_loss: 0.9538 - val_accuracy: 0.6496\n",
      "Epoch 20/100\n",
      "57/57 [==============================] - 10s 180ms/step - loss: 0.7533 - accuracy: 0.7425 - val_loss: 0.9178 - val_accuracy: 0.6808\n",
      "Epoch 21/100\n",
      "57/57 [==============================] - 11s 195ms/step - loss: 0.7591 - accuracy: 0.7349 - val_loss: 0.8762 - val_accuracy: 0.6852\n",
      "Epoch 22/100\n",
      "57/57 [==============================] - 10s 178ms/step - loss: 0.6995 - accuracy: 0.7573 - val_loss: 0.8625 - val_accuracy: 0.6941\n",
      "Epoch 23/100\n",
      "57/57 [==============================] - 10s 178ms/step - loss: 0.7061 - accuracy: 0.7474 - val_loss: 0.9053 - val_accuracy: 0.6730\n",
      "Epoch 24/100\n",
      "57/57 [==============================] - 10s 175ms/step - loss: 0.6672 - accuracy: 0.7705 - val_loss: 0.8611 - val_accuracy: 0.6974\n",
      "Epoch 25/100\n",
      "57/57 [==============================] - 9s 165ms/step - loss: 0.6436 - accuracy: 0.7680 - val_loss: 0.8436 - val_accuracy: 0.6941\n",
      "Epoch 26/100\n",
      "57/57 [==============================] - 9s 150ms/step - loss: 0.6116 - accuracy: 0.7838 - val_loss: 0.8094 - val_accuracy: 0.7030\n",
      "Epoch 00026: early stopping\n"
     ]
    }
   ],
   "source": [
    "history = model.fit(X_train, \n",
    "          y_train, \n",
    "          validation_data = (X_validation, y_validation), \n",
    "          batch_size = 64, \n",
    "          epochs = 100,\n",
    "          callbacks = [early_stop]         \n",
    "          )"
   ]
  },
  {
   "cell_type": "code",
   "execution_count": 21,
   "metadata": {},
   "outputs": [
    {
     "name": "stdout",
     "output_type": "stream",
     "text": [
      "47/47 [==============================] - 1s 17ms/step - loss: 0.7840 - accuracy: 0.7263\n"
     ]
    }
   ],
   "source": [
    "test_error, test_accuracy = model.evaluate(X_test, y_test, verbose=1)"
   ]
  },
  {
   "cell_type": "markdown",
   "metadata": {},
   "source": [
    "### Plot"
   ]
  },
  {
   "cell_type": "code",
   "execution_count": 22,
   "metadata": {},
   "outputs": [],
   "source": [
    "def plot_history(history):\n",
    "    fig, axs = plt.subplots(2)\n",
    "\n",
    "    # create accuracy subplot\n",
    "    axs[0].plot(history.history[\"accuracy\"], label=\"train accuracy\")\n",
    "    axs[0].plot(history.history[\"val_accuracy\"], label=\"test accuracy\")\n",
    "    axs[0].set_ylabel(\"Accuracy\")\n",
    "    axs[0].legend(loc=\"lower right\")\n",
    "    axs[0].set_title(\"Accuracy Eval\")\n",
    "\n",
    "    # create error subplot\n",
    "    axs[1].plot(history.history[\"loss\"], label=\"train error\")\n",
    "    axs[1].plot(history.history[\"val_loss\"], label=\"test error\")\n",
    "    axs[1].set_ylabel(\"Error\")\n",
    "    axs[1].set_xlabel(\"Epoch\")\n",
    "    axs[1].legend(loc=\"upper right\")\n",
    "    axs[1].set_title(\"Error Eval\")\n",
    "\n",
    "    plt.show()"
   ]
  },
  {
   "cell_type": "code",
   "execution_count": 23,
   "metadata": {},
   "outputs": [
    {
     "data": {
      "image/png": "[encoded data removed]",
      "text/plain": [
       "<Figure size 432x288 with 2 Axes>"
      ]
     },
     "metadata": {
      "needs_background": "light"
     },
     "output_type": "display_data"
    }
   ],
   "source": [
    "plot_history(history)"
   ]
  },
  {
   "cell_type": "markdown",
   "metadata": {},
   "source": [
    "### Predict"
   ]
  },
  {
   "cell_type": "code",
   "execution_count": 24,
   "metadata": {},
   "outputs": [
    {
     "name": "stdout",
     "output_type": "stream",
     "text": [
      "47/47 [==============================] - 1s 18ms/step\n"
     ]
    }
   ],
   "source": [
    "predictions = model.predict(X_test, verbose = 1)"
   ]
  },
  {
   "cell_type": "markdown",
   "metadata": {},
   "source": [
    "### Confusion Matrix"
   ]
  },
  {
   "cell_type": "code",
   "execution_count": 25,
   "metadata": {},
   "outputs": [
    {
     "name": "stdout",
     "output_type": "stream",
     "text": [
      "0: 0.137\n",
      "1: 0.095\n",
      "2: 0.2\n",
      "3: 0.191\n",
      "4: 0.122\n",
      "5: 0.18\n",
      "6: 0.127\n",
      "7: 0.149\n",
      "8: 0.13\n",
      "9: 0.167\n"
     ]
    }
   ],
   "source": [
    "### Check the number of predicted values in each class, and append it to the labels_pred list\n",
    "labels_pred = []\n",
    "for i in range(10):\n",
    "    \n",
    "    print(f'{i}: {sum([1 for prediction in predictions if np.argmax(prediction) == i]) / 1000}')\n",
    "    labels_pred.append(sum([1 for prediction in predictions if np.argmax(prediction) == i]) / 1000)"
   ]
  },
  {
   "cell_type": "code",
   "execution_count": 26,
   "metadata": {},
   "outputs": [
    {
     "name": "stdout",
     "output_type": "stream",
     "text": [
      "rock: 0.2\n",
      "blues: 0.191\n",
      "country: 0.18\n",
      "pop: 0.167\n",
      "classical: 0.149\n",
      "jazz: 0.137\n",
      "disco: 0.13\n",
      "metal: 0.127\n",
      "hiphop: 0.122\n",
      "reggae: 0.095\n"
     ]
    }
   ],
   "source": [
    "### Create a genre list \n",
    "genre_list = ['jazz:', 'reggae:', 'rock:', 'blues:', 'hiphop:', 'country:', 'metal:', 'classical:', 'disco:', 'pop:']\n",
    "\n",
    "\n",
    "# Zip the results together\n",
    "results = list(zip(genre_list, labels_pred))\n",
    "\n",
    "# Sort them by second index\n",
    "results = sorted(results, key = lambda x: x[1], reverse = True)\n",
    "\n",
    "# Display the results of the predictionsfor i in results:\n",
    "for i in results:\n",
    "    print (' '.join(map(str, i)))"
   ]
  },
  {
   "cell_type": "markdown",
   "metadata": {},
   "source": [
    "### Save the Model"
   ]
  },
  {
   "cell_type": "code",
   "execution_count": 27,
   "metadata": {},
   "outputs": [],
   "source": [
    "model.save('../models/cnn_genre_classifer_results.h5')"
   ]
  },
  {
   "cell_type": "markdown",
   "metadata": {},
   "source": [
    "### Additional Prediction Stuff"
   ]
  },
  {
   "cell_type": "code",
   "execution_count": 28,
   "metadata": {},
   "outputs": [],
   "source": [
    "def predict(model, X_prediction, y_prediction):\n",
    "    \n",
    "    X_prediction = X_prediction[np.newaxis, ...]\n",
    "    \n",
    "    # Plot predictions to a 2D Array\n",
    "    predictions = model.predict(X_prediction)\n",
    "    \n",
    "    predicted_index = np.argmax(predictions, axis=1)\n",
    "    \n",
    "    \n",
    "    print(f'Target: {y_prediction}, Predicted label: {predicted_index}')"
   ]
  },
  {
   "cell_type": "code",
   "execution_count": 29,
   "metadata": {},
   "outputs": [],
   "source": [
    "X_prediction = X_test[100]\n",
    "y_prediction = y_test[100]"
   ]
  },
  {
   "cell_type": "code",
   "execution_count": 30,
   "metadata": {},
   "outputs": [
    {
     "name": "stdout",
     "output_type": "stream",
     "text": [
      "Target: 9, Predicted label: [9]\n"
     ]
    }
   ],
   "source": [
    "pred = predict(model, X_prediction, y_prediction)"
   ]
  },
  {
   "cell_type": "code",
   "execution_count": null,
   "metadata": {},
   "outputs": [],
   "source": []
  }
 ],
 "metadata": {
  "kernelspec": {
   "display_name": "Python 3",
   "language": "python",
   "name": "python3"
  },
  "language_info": {
   "codemirror_mode": {
    "name": "ipython",
    "version": 3
   },
   "file_extension": ".py",
   "mimetype": "text/x-python",
   "name": "python",
   "nbconvert_exporter": "python",
   "pygments_lexer": "ipython3",
   "version": "3.8.5"
  }
 },
 "nbformat": 4,
 "nbformat_minor": 4
}
