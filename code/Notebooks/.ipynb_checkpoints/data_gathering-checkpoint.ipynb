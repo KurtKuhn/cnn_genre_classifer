{
 "cells": [
  {
   "cell_type": "code",
   "execution_count": 1,
   "metadata": {},
   "outputs": [],
   "source": [
    "import os\n",
    "import math\n",
    "import pandas as pd\n",
    "import numpy as np\n",
    "import librosa\n",
    "import librosa.display\n",
    "import matplotlib.pyplot as plt\n",
    "from sklearn.model_selection import train_test_split\n",
    "from sklearn.metrics import confusion_matrix\n",
    "import tensorflow.keras as keras\n",
    "import tensorflow as tf\n",
    "import pickle"
   ]
  },
  {
   "cell_type": "code",
   "execution_count": 2,
   "metadata": {},
   "outputs": [],
   "source": [
    "# save mfcc and label data into numpy arrays\n",
    "def save_mfcc(dataset_path,\n",
    "              track_duration=30,\n",
    "              sr=22050,\n",
    "              n_mfcc=13,\n",
    "              n_fft=2048,\n",
    "              hop_length=512,\n",
    "              num_segments=6):\n",
    "\n",
    "    mfcc_data = []\n",
    "    labels = []\n",
    "\n",
    "    # mapping of labels to integers\n",
    "    label_dict = {\n",
    "        'jazz': 0,\n",
    "        'reggae': 1,\n",
    "        'rock': 2,\n",
    "        'blues': 3,\n",
    "        'hiphop': 4,\n",
    "        'country': 5,\n",
    "        'metal': 6,\n",
    "        'classical': 7,\n",
    "        'disco': 8,\n",
    "        'pop': 9\n",
    "    }\n",
    "\n",
    "    samples_per_track = sr * track_duration\n",
    "    num_samples_per_segment = int(samples_per_track / num_segments)\n",
    "    expected_num_mfcc_per_segment = math.ceil(num_samples_per_segment / hop_length)\n",
    "\n",
    "    # loop through files\n",
    "   \n",
    "    for file in os.scandir(dataset_path):\n",
    "\n",
    "        # parse file name for genre\n",
    "        label_key = file.name.split('.')[0]\n",
    "\n",
    "        # store integer label for genre\n",
    "        label = label_dict[label_key]\n",
    "\n",
    "        # process files\n",
    "        signal, sr = librosa.load(file, sr=sr)\n",
    "\n",
    "        # process segments and extract mfccs\n",
    "        for s in range(num_segments):\n",
    "            start_sample = num_samples_per_segment * s\n",
    "            finish_sample = start_sample + num_samples_per_segment\n",
    "\n",
    "            # store mfcc for segment if has correct vector length\n",
    "            mfcc = librosa.feature.mfcc(signal[start_sample:finish_sample],\n",
    "                                        sr=sr,\n",
    "                                        n_fft=n_fft,\n",
    "                                        n_mfcc=n_mfcc,\n",
    "                                        hop_length=hop_length)\n",
    "            mfcc = mfcc.T\n",
    "\n",
    "            if len(mfcc) == expected_num_mfcc_per_segment:\n",
    "                mfcc_data.append(mfcc.tolist())\n",
    "                labels.append(label)\n",
    "\n",
    "    mfcc_data = np.array(mfcc_data)\n",
    "    labels = np.array(labels)\n",
    "\n",
    "    return mfcc_data, labels"
   ]
  },
  {
   "cell_type": "code",
   "execution_count": 4,
   "metadata": {},
   "outputs": [
    {
     "ename": "FileNotFoundError",
     "evalue": "[WinError 3] The system cannot find the path specified: '../audio/audio_data/'",
     "output_type": "error",
     "traceback": [
      "\u001b[1;31m---------------------------------------------------------------------------\u001b[0m",
      "\u001b[1;31mFileNotFoundError\u001b[0m                         Traceback (most recent call last)",
      "\u001b[1;32m<ipython-input-4-72e57318bcaa>\u001b[0m in \u001b[0;36m<module>\u001b[1;34m\u001b[0m\n\u001b[1;32m----> 1\u001b[1;33m \u001b[0mmfcc\u001b[0m\u001b[1;33m,\u001b[0m \u001b[0mlabels\u001b[0m \u001b[1;33m=\u001b[0m \u001b[0msave_mfcc\u001b[0m\u001b[1;33m(\u001b[0m\u001b[1;34m'../audio/audio_data/'\u001b[0m\u001b[1;33m)\u001b[0m\u001b[1;33m\u001b[0m\u001b[1;33m\u001b[0m\u001b[0m\n\u001b[0m",
      "\u001b[1;32m<ipython-input-2-6836afcf0896>\u001b[0m in \u001b[0;36msave_mfcc\u001b[1;34m(dataset_path, track_duration, sr, n_mfcc, n_fft, hop_length, num_segments)\u001b[0m\n\u001b[0;32m     31\u001b[0m     \u001b[1;31m# loop through files\u001b[0m\u001b[1;33m\u001b[0m\u001b[1;33m\u001b[0m\u001b[1;33m\u001b[0m\u001b[0m\n\u001b[0;32m     32\u001b[0m \u001b[1;33m\u001b[0m\u001b[0m\n\u001b[1;32m---> 33\u001b[1;33m     \u001b[1;32mfor\u001b[0m \u001b[0mfile\u001b[0m \u001b[1;32min\u001b[0m \u001b[0mos\u001b[0m\u001b[1;33m.\u001b[0m\u001b[0mscandir\u001b[0m\u001b[1;33m(\u001b[0m\u001b[0mdataset_path\u001b[0m\u001b[1;33m)\u001b[0m\u001b[1;33m:\u001b[0m\u001b[1;33m\u001b[0m\u001b[1;33m\u001b[0m\u001b[0m\n\u001b[0m\u001b[0;32m     34\u001b[0m \u001b[1;33m\u001b[0m\u001b[0m\n\u001b[0;32m     35\u001b[0m         \u001b[1;31m# parse file name for genre\u001b[0m\u001b[1;33m\u001b[0m\u001b[1;33m\u001b[0m\u001b[1;33m\u001b[0m\u001b[0m\n",
      "\u001b[1;31mFileNotFoundError\u001b[0m: [WinError 3] The system cannot find the path specified: '../audio/audio_data/'"
     ]
    }
   ],
   "source": [
    "mfcc, labels = save_mfcc('../audio/audio_data/')"
   ]
  },
  {
   "cell_type": "code",
   "execution_count": null,
   "metadata": {},
   "outputs": [],
   "source": [
    "print(f'mfcc.shape: {mfcc.shape}')"
   ]
  },
  {
   "cell_type": "code",
   "execution_count": null,
   "metadata": {},
   "outputs": [],
   "source": [
    "print(f'labels.shape: {labels.shape}')"
   ]
  },
  {
   "cell_type": "code",
   "execution_count": null,
   "metadata": {},
   "outputs": [],
   "source": [
    "print(\"Saving the data\")\n",
    "np.savez('../audio_data_MFCC/audio_out.npz', mfcc=mfcc, labels=labels)"
   ]
  },
  {
   "cell_type": "code",
   "execution_count": null,
   "metadata": {},
   "outputs": [],
   "source": []
  },
  {
   "cell_type": "code",
   "execution_count": null,
   "metadata": {},
   "outputs": [],
   "source": []
  }
 ],
 "metadata": {
  "kernelspec": {
   "display_name": "Python 3",
   "language": "python",
   "name": "python3"
  },
  "language_info": {
   "codemirror_mode": {
    "name": "ipython",
    "version": 3
   },
   "file_extension": ".py",
   "mimetype": "text/x-python",
   "name": "python",
   "nbconvert_exporter": "python",
   "pygments_lexer": "ipython3",
   "version": "3.8.5"
  }
 },
 "nbformat": 4,
 "nbformat_minor": 4
}
