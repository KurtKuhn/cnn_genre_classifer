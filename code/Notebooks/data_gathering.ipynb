{
 "cells": [
  {
   "cell_type": "code",
   "execution_count": 1,
   "metadata": {},
   "outputs": [],
   "source": [
    "import os\n",
    "import math\n",
    "import pandas as pd\n",
    "import numpy as np\n",
    "import librosa\n",
    "import librosa.display\n",
    "import matplotlib.pyplot as plt\n",
    "from sklearn.model_selection import train_test_split\n",
    "from sklearn.metrics import confusion_matrix\n",
    "import tensorflow.keras as keras\n",
    "import tensorflow as tf\n",
    "import pickle"
   ]
  },
  {
   "cell_type": "code",
   "execution_count": 2,
   "metadata": {},
   "outputs": [],
   "source": [
    "# Save the MFCC and export them as numpy arrays\n",
    "def save_mfcc(dataset_path,\n",
    "              track_duration=30,\n",
    "              sr=22050,\n",
    "              n_mfcc=13,\n",
    "              n_fft=2048,\n",
    "              hop_length=512,\n",
    "              num_segments=6):\n",
    "\n",
    "    mfcc_data = []\n",
    "    labels = []\n",
    "\n",
    "    # Map labels to genre\n",
    "    label_dict = {\n",
    "        'jazz': 0,\n",
    "        'reggae': 1,\n",
    "        'rock': 2,\n",
    "        'blues': 3,\n",
    "        'hiphop': 4,\n",
    "        'country': 5,\n",
    "        'metal': 6,\n",
    "        'classical': 7,\n",
    "        'disco': 8,\n",
    "        'pop': 9\n",
    "    }\n",
    "\n",
    "    samples_per_track = sr * track_duration\n",
    "    num_samples_per_segment = int(samples_per_track / num_segments)\n",
    "    expected_num_mfcc_per_segment = math.ceil(num_samples_per_segment / hop_length)\n",
    "\n",
    "    # Iterate through the files\n",
    "   \n",
    "    for file in os.scandir(dataset_path):\n",
    "\n",
    "        # Parse the file names by genre\n",
    "        label_key = file.name.split('.')[0]\n",
    "\n",
    "        # Store the integer label based on genre\n",
    "        label = label_dict[label_key]\n",
    "\n",
    "        # Process the files\n",
    "        signal, sr = librosa.load(file, sr=sr)\n",
    "\n",
    "        # Progress the segments and extract the MFCC\n",
    "        for s in range(num_segments):\n",
    "            start_sample = num_samples_per_segment * s\n",
    "            finish_sample = start_sample + num_samples_per_segment\n",
    "\n",
    "            # Ensure MFCC has correct vector length, if it does save it\n",
    "            mfcc = librosa.feature.mfcc(signal[start_sample:finish_sample],\n",
    "                                        sr=sr,\n",
    "                                        n_fft=n_fft,\n",
    "                                        n_mfcc=n_mfcc,\n",
    "                                        hop_length=hop_length)\n",
    "            mfcc = mfcc.T\n",
    "\n",
    "            if len(mfcc) == expected_num_mfcc_per_segment:\n",
    "                mfcc_data.append(mfcc.tolist())\n",
    "                labels.append(label)\n",
    "\n",
    "    mfcc_data = np.array(mfcc_data)\n",
    "    labels = np.array(labels)\n",
    "\n",
    "    return mfcc_data, labels"
   ]
  },
  {
   "cell_type": "code",
   "execution_count": 13,
   "metadata": {},
   "outputs": [],
   "source": [
    "mfcc, labels = save_mfcc('../../audio_data/')"
   ]
  },
  {
   "cell_type": "code",
   "execution_count": 14,
   "metadata": {},
   "outputs": [
    {
     "name": "stdout",
     "output_type": "stream",
     "text": [
      "mfcc.shape: (5992, 216, 13)\n"
     ]
    }
   ],
   "source": [
    "print(f'mfcc.shape: {mfcc.shape}')"
   ]
  },
  {
   "cell_type": "code",
   "execution_count": 15,
   "metadata": {},
   "outputs": [
    {
     "name": "stdout",
     "output_type": "stream",
     "text": [
      "labels.shape: (5992,)\n"
     ]
    }
   ],
   "source": [
    "print(f'labels.shape: {labels.shape}')"
   ]
  },
  {
   "cell_type": "code",
   "execution_count": 17,
   "metadata": {},
   "outputs": [
    {
     "name": "stdout",
     "output_type": "stream",
     "text": [
      "Saving the data\n"
     ]
    }
   ],
   "source": [
    "print(\"Saving the data\")\n",
    "np.savez('../../audio/audio_data_MFCC/audio_output.npz', mfcc=mfcc, labels=labels)"
   ]
  },
  {
   "cell_type": "code",
   "execution_count": null,
   "metadata": {},
   "outputs": [],
   "source": []
  },
  {
   "cell_type": "code",
   "execution_count": null,
   "metadata": {},
   "outputs": [],
   "source": []
  }
 ],
 "metadata": {
  "kernelspec": {
   "display_name": "Python 3",
   "language": "python",
   "name": "python3"
  },
  "language_info": {
   "codemirror_mode": {
    "name": "ipython",
    "version": 3
   },
   "file_extension": ".py",
   "mimetype": "text/x-python",
   "name": "python",
   "nbconvert_exporter": "python",
   "pygments_lexer": "ipython3",
   "version": "3.8.5"
  }
 },
 "nbformat": 4,
 "nbformat_minor": 4
}
